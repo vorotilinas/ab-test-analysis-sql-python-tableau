# Description:
# This Python script processes event data from an A/B test, calculates conversion rates,
# performs statistical significance testing (Z-test), and outputs the results into a CSV file.
# The script aggregates metrics such as 'add_payment_info', 'add_shipping_info', 'begin_checkout', and 'new_accounts'
# by test and test group and calculates Z-scores and p-values for each metric.

# Author: Alexander Vorotilin
# Created: 2025-04-19

# Mounting Google Drive to access the dataset
from google.colab import drive
drive.mount('/content/drive', force_remount=True)

# Importing necessary libraries
import pandas as pd
import numpy as np
import statsmodels.api as sm

# Path to the CSV file containing event data
data_path = '/content/drive/My Drive/CSV/BQ/bq-results-20250410-095751-1744279100298/bq-results-20250410-095751-1744279100298.csv'

# Loading the CSV file into a pandas DataFrame
df = pd.read_csv(data_path)

# Defining metrics and their calculations
metrics = {
    'add_payment_info': {'numerator': 'add_payment_info', 'denominator': 'session'},
    'add_shipping_info': {'numerator': 'add_shipping_info', 'denominator': 'session'},
    'begin_checkout': {'numerator': 'begin_checkout', 'denominator': 'session'},
    'new_accounts': {'numerator': 'new account', 'denominator': 'session'}
}

# Checking for the availability of these metrics in the data
available_metrics = {}
for name in metrics:
    if metrics[name]['numerator'] in df['event_name'].unique():
        available_metrics[name] = metrics[name]
    else:
        print(f"Metric '{name}' not found in event_name and will be skipped.")

# Creating separate columns: sum of 'value' for each event
for metric in available_metrics:
    numerator = available_metrics[metric]['numerator']
    df[metric] = df.apply(lambda row: row['value'] if row['event_name'] == numerator else 0, axis=1)

# Creating a column for counting sessions
df['session'] = df.apply(lambda row: row['value'] if row['event_name'] == 'session' else 0, axis=1)

# Grouping data by 'test' and 'test_group', summing up the necessary events
agg = df.groupby(['test', 'test_group']).agg({
    **{m: 'sum' for m in available_metrics},  # Summing up all metrics
    'session': 'sum'  # Summing sessions
}).reset_index()

# Renaming columns for convenience
agg.rename(columns={metric: f'{metric}_numerator' for metric in available_metrics}, inplace=True)
agg.rename(columns={'session': 'session_denominator'}, inplace=True)

# Creating an empty list to store the results
results = []

# Looping through each test
for test_id in agg['test'].unique():
    # Filtering data for the current test
    temp = agg[agg['test'] == test_id]

    # Checking if there are both groups (1 and 2)
    if len(temp['test_group'].unique()) < 2:
        continue

    # Getting data for experimental and control groups
    ev = temp[temp['test_group'] == 2].iloc[0]
    co = temp[temp['test_group'] == 1].iloc[0]

    # Calculating Z-statistics and p-value for each metric
    for metric in available_metrics:
        numerator_ev = ev[f'{metric}_numerator']
        numerator_co = co[f'{metric}_numerator']
        denominator_ev = ev['session_denominator']
        denominator_co = co['session_denominator']

        # Calculating Z-statistics and p-value using the proportions_ztest
        z_stat, p_value = sm.stats.proportions_ztest(
            [numerator_ev, numerator_co],
            [denominator_ev, denominator_co],
            alternative='two-sided'
        )

        # Calculating conversion rates
        rate_ev = numerator_ev / denominator_ev if denominator_ev != 0 else 0
        rate_co = numerator_co / denominator_co if denominator_co != 0 else 0

        # Calculating the relative change percentage
        diff_pct = ((rate_ev - rate_co) / rate_co) * 100 if rate_co != 0 else np.nan

        # Adding the results to the list
        results.append([
            test_id, metric, numerator_ev, denominator_ev, numerator_co, denominator_co,
            round(rate_ev, 4), round(rate_co, 4), round(diff_pct, 2),
            round(z_stat, 4), round(p_value, 4), p_value < 0.05
        ])

# Creating a DataFrame from the results
columns = [
    'test_number', 'metric',
    'numerator_ev', 'denominator_ev',
    'numerator_co', 'denominator_co',
    'Conversion Rate Test', 'Conversion Rate Control',
    'Metric Change %', 'Z Stat', 'P Value', 'significant'
]
results_df = pd.DataFrame(results, columns=columns)

# Defining the path to save the results as a CSV
save_path = '/content/drive/My Drive/CSV/BQ/results.csv'

# Saving the results to a CSV file with the following settings:
results_df.to_csv(
    save_path,
    index=False,  # Do not save DataFrame index
    encoding='utf-8-sig',  # Use UTF-8 with BOM for better compatibility
    sep=',',  # Use comma as the separator
    quoting=1  # Quote text fields to prevent issues with separators
)

# Displaying the first rows of the results
print("A/B Testing Results:")
results_df.head(16)
